{
  "cells": [
    {
      "cell_type": "code",
      "execution_count": null,
      "metadata": {
        "colab": {
          "base_uri": "https://localhost:8080/"
        },
        "id": "g9qw2B6aez45",
        "outputId": "c1c9b070-0f9b-42f4-9b33-2accb65bd5f5"
      },
      "outputs": [
        {
          "ename": "",
          "evalue": "",
          "output_type": "error",
          "traceback": [
            "\u001b[1;31mRunning cells with 'Python 3.9.16' requires the ipykernel package.\n",
            "\u001b[1;31mRun the following command to install 'ipykernel' into the Python environment. \n",
            "\u001b[1;31mCommand: '/home/tony/.pyenv/versions/3.9.16/bin/python -m pip install ipykernel -U --force-reinstall'"
          ]
        }
      ],
      "source": [
        "!wget -O dataset.csv \"\"\n",
        "!wget -O macro_data_master.csv \"\""
      ]
    },
    {
      "cell_type": "code",
      "execution_count": null,
      "metadata": {
        "id": "K1n16jymfyJp"
      },
      "outputs": [
        {
          "ename": "",
          "evalue": "",
          "output_type": "error",
          "traceback": [
            "\u001b[1;31mRunning cells with 'Python 3.9.16' requires the ipykernel package.\n",
            "\u001b[1;31mRun the following command to install 'ipykernel' into the Python environment. \n",
            "\u001b[1;31mCommand: '/home/tony/.pyenv/versions/3.9.16/bin/python -m pip install ipykernel -U --force-reinstall'"
          ]
        }
      ],
      "source": [
        "working_directory = \"/content/\"\n",
        "# %load_ext rpy2.ipython"
      ]
    },
    {
      "cell_type": "code",
      "execution_count": null,
      "metadata": {
        "id": "qkge22ltf_5e"
      },
      "outputs": [
        {
          "ename": "",
          "evalue": "",
          "output_type": "error",
          "traceback": [
            "\u001b[1;31mRunning cells with 'Python 3.9.16' requires the ipykernel package.\n",
            "\u001b[1;31mRun the following command to install 'ipykernel' into the Python environment. \n",
            "\u001b[1;31mCommand: '/home/tony/.pyenv/versions/3.9.16/bin/python -m pip install ipykernel -U --force-reinstall'"
          ]
        }
      ],
      "source": [
        "import pandas as pd\n",
        "original_df = pd.read_csv(f\"{working_directory}dataset.csv\")\n"
      ]
    },
    {
      "cell_type": "code",
      "execution_count": null,
      "metadata": {
        "id": "rA4HD5GGEN_V"
      },
      "outputs": [
        {
          "ename": "",
          "evalue": "",
          "output_type": "error",
          "traceback": [
            "\u001b[1;31mRunning cells with 'Python 3.9.16' requires the ipykernel package.\n",
            "\u001b[1;31mRun the following command to install 'ipykernel' into the Python environment. \n",
            "\u001b[1;31mCommand: '/home/tony/.pyenv/versions/3.9.16/bin/python -m pip install ipykernel -U --force-reinstall'"
          ]
        }
      ],
      "source": [
        "macro_master = pd.read_csv(f\"{working_directory}macro_data_master.csv\")"
      ]
    },
    {
      "cell_type": "code",
      "execution_count": null,
      "metadata": {
        "colab": {
          "base_uri": "https://localhost:8080/",
          "height": 461
        },
        "id": "4aMC7SPVgH-c",
        "outputId": "9cc9585d-b13b-46c2-e1bc-7df7a2c4f70d"
      },
      "outputs": [
        {
          "ename": "",
          "evalue": "",
          "output_type": "error",
          "traceback": [
            "\u001b[1;31mRunning cells with 'Python 3.9.16' requires the ipykernel package.\n",
            "\u001b[1;31mRun the following command to install 'ipykernel' into the Python environment. \n",
            "\u001b[1;31mCommand: '/home/tony/.pyenv/versions/3.9.16/bin/python -m pip install ipykernel -U --force-reinstall'"
          ]
        }
      ],
      "source": [
        "original_df"
      ]
    },
    {
      "cell_type": "code",
      "execution_count": null,
      "metadata": {
        "colab": {
          "base_uri": "https://localhost:8080/"
        },
        "id": "a3__rcgKgeTA",
        "outputId": "a9ae5ac6-2187-4759-8e1f-e96adaac183e"
      },
      "outputs": [
        {
          "ename": "",
          "evalue": "",
          "output_type": "error",
          "traceback": [
            "\u001b[1;31mRunning cells with 'Python 3.9.16' requires the ipykernel package.\n",
            "\u001b[1;31mRun the following command to install 'ipykernel' into the Python environment. \n",
            "\u001b[1;31mCommand: '/home/tony/.pyenv/versions/3.9.16/bin/python -m pip install ipykernel -U --force-reinstall'"
          ]
        }
      ],
      "source": [
        "original_df.columns = map(str.lower, original_df.columns)\n",
        "list(original_df.columns),len(list(original_df.columns))"
      ]
    },
    {
      "cell_type": "code",
      "execution_count": null,
      "metadata": {
        "colab": {
          "base_uri": "https://localhost:8080/",
          "height": 461
        },
        "id": "w5yLytYfhHen",
        "outputId": "81e1820b-54b7-4202-d84f-1d7adceee8f1"
      },
      "outputs": [
        {
          "ename": "",
          "evalue": "",
          "output_type": "error",
          "traceback": [
            "\u001b[1;31mRunning cells with 'Python 3.9.16' requires the ipykernel package.\n",
            "\u001b[1;31mRun the following command to install 'ipykernel' into the Python environment. \n",
            "\u001b[1;31mCommand: '/home/tony/.pyenv/versions/3.9.16/bin/python -m pip install ipykernel -U --force-reinstall'"
          ]
        }
      ],
      "source": [
        "macro_master"
      ]
    },
    {
      "cell_type": "code",
      "execution_count": null,
      "metadata": {
        "colab": {
          "base_uri": "https://localhost:8080/"
        },
        "id": "3ITFQv07DBco",
        "outputId": "03b3b8ff-dba2-45f4-b85d-dd18fbfc5af3"
      },
      "outputs": [
        {
          "ename": "",
          "evalue": "",
          "output_type": "error",
          "traceback": [
            "\u001b[1;31mRunning cells with 'Python 3.9.16' requires the ipykernel package.\n",
            "\u001b[1;31mRun the following command to install 'ipykernel' into the Python environment. \n",
            "\u001b[1;31mCommand: '/home/tony/.pyenv/versions/3.9.16/bin/python -m pip install ipykernel -U --force-reinstall'"
          ]
        }
      ],
      "source": [
        "list(macro_master.columns),len(list(macro_master.columns))"
      ]
    },
    {
      "cell_type": "code",
      "execution_count": null,
      "metadata": {
        "colab": {
          "base_uri": "https://localhost:8080/"
        },
        "id": "jfAs1Nb1DpNy",
        "outputId": "d7a6a312-4373-4bd2-f048-c5c475ed12e7"
      },
      "outputs": [
        {
          "ename": "",
          "evalue": "",
          "output_type": "error",
          "traceback": [
            "\u001b[1;31mRunning cells with 'Python 3.9.16' requires the ipykernel package.\n",
            "\u001b[1;31mRun the following command to install 'ipykernel' into the Python environment. \n",
            "\u001b[1;31mCommand: '/home/tony/.pyenv/versions/3.9.16/bin/python -m pip install ipykernel -U --force-reinstall'"
          ]
        }
      ],
      "source": [
        "macro_master.columns = map(str.lower, macro_master.columns)\n",
        "macro_master.columns = macro_master.columns.str.strip()\n",
        "macro_master.columns = macro_master.columns.str.replace(' ', '_')\n",
        "list(macro_master.columns),len(list(macro_master.columns))"
      ]
    },
    {
      "cell_type": "code",
      "execution_count": null,
      "metadata": {
        "id": "BdOWKUORDtcL"
      },
      "outputs": [
        {
          "ename": "",
          "evalue": "",
          "output_type": "error",
          "traceback": [
            "\u001b[1;31mRunning cells with 'Python 3.9.16' requires the ipykernel package.\n",
            "\u001b[1;31mRun the following command to install 'ipykernel' into the Python environment. \n",
            "\u001b[1;31mCommand: '/home/tony/.pyenv/versions/3.9.16/bin/python -m pip install ipykernel -U --force-reinstall'"
          ]
        }
      ],
      "source": [
        "macro_master['date'] = pd.to_datetime(macro_master['date'], format='%m/%d/%Y')\n",
        "macro_master.set_index('date', inplace=True)"
      ]
    },
    {
      "cell_type": "code",
      "execution_count": null,
      "metadata": {
        "id": "Y3_unVfJFjI4"
      },
      "outputs": [
        {
          "ename": "",
          "evalue": "",
          "output_type": "error",
          "traceback": [
            "\u001b[1;31mRunning cells with 'Python 3.9.16' requires the ipykernel package.\n",
            "\u001b[1;31mRun the following command to install 'ipykernel' into the Python environment. \n",
            "\u001b[1;31mCommand: '/home/tony/.pyenv/versions/3.9.16/bin/python -m pip install ipykernel -U --force-reinstall'"
          ]
        }
      ],
      "source": [
        "macro_qtr=macro_master"
      ]
    },
    {
      "cell_type": "code",
      "execution_count": null,
      "metadata": {
        "colab": {
          "base_uri": "https://localhost:8080/",
          "height": 475
        },
        "id": "pKhjZ5uFIGhf",
        "outputId": "83e42fef-c420-4182-d598-7b455a36c23f"
      },
      "outputs": [
        {
          "ename": "",
          "evalue": "",
          "output_type": "error",
          "traceback": [
            "\u001b[1;31mRunning cells with 'Python 3.9.16' requires the ipykernel package.\n",
            "\u001b[1;31mRun the following command to install 'ipykernel' into the Python environment. \n",
            "\u001b[1;31mCommand: '/home/tony/.pyenv/versions/3.9.16/bin/python -m pip install ipykernel -U --force-reinstall'"
          ]
        }
      ],
      "source": [
        "macro_qtr"
      ]
    },
    {
      "cell_type": "code",
      "execution_count": null,
      "metadata": {
        "colab": {
          "base_uri": "https://localhost:8080/",
          "height": 475
        },
        "id": "anGTdvKeGV3O",
        "outputId": "39ff1169-8116-4957-d6ea-bf39ef184d24"
      },
      "outputs": [
        {
          "ename": "",
          "evalue": "",
          "output_type": "error",
          "traceback": [
            "\u001b[1;31mRunning cells with 'Python 3.9.16' requires the ipykernel package.\n",
            "\u001b[1;31mRun the following command to install 'ipykernel' into the Python environment. \n",
            "\u001b[1;31mCommand: '/home/tony/.pyenv/versions/3.9.16/bin/python -m pip install ipykernel -U --force-reinstall'"
          ]
        }
      ],
      "source": [
        "macro_qtr = macro_qtr.replace(['.'], pd.NA)\n",
        "macro_qtr"
      ]
    },
    {
      "cell_type": "code",
      "execution_count": null,
      "metadata": {
        "colab": {
          "base_uri": "https://localhost:8080/",
          "height": 475
        },
        "id": "1uE5Vs3pIBWp",
        "outputId": "f0be2c70-d8b8-4502-c7d5-33603d2ca2ac"
      },
      "outputs": [
        {
          "ename": "",
          "evalue": "",
          "output_type": "error",
          "traceback": [
            "\u001b[1;31mRunning cells with 'Python 3.9.16' requires the ipykernel package.\n",
            "\u001b[1;31mRun the following command to install 'ipykernel' into the Python environment. \n",
            "\u001b[1;31mCommand: '/home/tony/.pyenv/versions/3.9.16/bin/python -m pip install ipykernel -U --force-reinstall'"
          ]
        }
      ],
      "source": [
        "# convert all string columns to numeric\n",
        "macro_qtr = macro_qtr.apply(pd.to_numeric, errors='ignore')\n",
        "macro_qtr"
      ]
    },
    {
      "cell_type": "code",
      "execution_count": null,
      "metadata": {
        "colab": {
          "base_uri": "https://localhost:8080/",
          "height": 199
        },
        "id": "-MSjcQRNulHP",
        "outputId": "bfcc9640-08bb-408f-d7a6-b9aea8dc2810"
      },
      "outputs": [
        {
          "ename": "",
          "evalue": "",
          "output_type": "error",
          "traceback": [
            "\u001b[1;31mRunning cells with 'Python 3.9.16' requires the ipykernel package.\n",
            "\u001b[1;31mRun the following command to install 'ipykernel' into the Python environment. \n",
            "\u001b[1;31mCommand: '/home/tony/.pyenv/versions/3.9.16/bin/python -m pip install ipykernel -U --force-reinstall'"
          ]
        }
      ],
      "source": [
        "# fill nan with mean of each quarter based on date\n",
        "macro_qtr = macro_qtr.groupby(pd.Grouper(freq='Q')).transform(lambda x: x.fillna(x.mean()))"
      ]
    },
    {
      "cell_type": "code",
      "execution_count": null,
      "metadata": {
        "colab": {
          "base_uri": "https://localhost:8080/",
          "height": 100
        },
        "id": "L3uHfHOYulHQ",
        "outputId": "c821035b-0b70-4fdd-c995-be58885dd290"
      },
      "outputs": [
        {
          "ename": "",
          "evalue": "",
          "output_type": "error",
          "traceback": [
            "\u001b[1;31mRunning cells with 'Python 3.9.16' requires the ipykernel package.\n",
            "\u001b[1;31mRun the following command to install 'ipykernel' into the Python environment. \n",
            "\u001b[1;31mCommand: '/home/tony/.pyenv/versions/3.9.16/bin/python -m pip install ipykernel -U --force-reinstall'"
          ]
        }
      ],
      "source": [
        "\n",
        "macro_qtr[macro_qtr.isna().any(axis=1)]\n"
      ]
    },
    {
      "cell_type": "code",
      "execution_count": null,
      "metadata": {
        "colab": {
          "base_uri": "https://localhost:8080/",
          "height": 1000
        },
        "id": "vaP5BPmXulHR",
        "outputId": "649f5980-f74b-439b-978c-7c854723c336"
      },
      "outputs": [
        {
          "ename": "",
          "evalue": "",
          "output_type": "error",
          "traceback": [
            "\u001b[1;31mRunning cells with 'Python 3.9.16' requires the ipykernel package.\n",
            "\u001b[1;31mRun the following command to install 'ipykernel' into the Python environment. \n",
            "\u001b[1;31mCommand: '/home/tony/.pyenv/versions/3.9.16/bin/python -m pip install ipykernel -U --force-reinstall'"
          ]
        }
      ],
      "source": [
        "# convert macro_qtr to quarterly averages based on date\n",
        "macro_qtr = macro_qtr.groupby(pd.Grouper(freq='Q')).mean()\n",
        "macro_qtr"
      ]
    },
    {
      "cell_type": "code",
      "execution_count": null,
      "metadata": {
        "id": "UhQANhKAulHS"
      },
      "outputs": [
        {
          "ename": "",
          "evalue": "",
          "output_type": "error",
          "traceback": [
            "\u001b[1;31mRunning cells with 'Python 3.9.16' requires the ipykernel package.\n",
            "\u001b[1;31mRun the following command to install 'ipykernel' into the Python environment. \n",
            "\u001b[1;31mCommand: '/home/tony/.pyenv/versions/3.9.16/bin/python -m pip install ipykernel -U --force-reinstall'"
          ]
        }
      ],
      "source": [
        "# Add macro_qtr columns to macro_qtr dataframe in the format 2010Q3\n",
        "macro_qtr[\"macro_qtr\"] = macro_qtr.index.year.astype(str) + \"Q\" + macro_qtr.index.quarter.astype(str)"
      ]
    },
    {
      "cell_type": "code",
      "execution_count": null,
      "metadata": {
        "colab": {
          "base_uri": "https://localhost:8080/",
          "height": 1000
        },
        "id": "-ILxdSV0ulHT",
        "outputId": "51abea97-99cb-413d-dd36-4230d24f9a2b"
      },
      "outputs": [
        {
          "ename": "",
          "evalue": "",
          "output_type": "error",
          "traceback": [
            "\u001b[1;31mRunning cells with 'Python 3.9.16' requires the ipykernel package.\n",
            "\u001b[1;31mRun the following command to install 'ipykernel' into the Python environment. \n",
            "\u001b[1;31mCommand: '/home/tony/.pyenv/versions/3.9.16/bin/python -m pip install ipykernel -U --force-reinstall'"
          ]
        }
      ],
      "source": [
        "macro_qtr"
      ]
    },
    {
      "cell_type": "code",
      "execution_count": null,
      "metadata": {
        "colab": {
          "base_uri": "https://localhost:8080/",
          "height": 1000
        },
        "id": "78VvjKo6ulHU",
        "outputId": "ebadba5b-c1b8-43f8-a15b-e14a79bb5f6e"
      },
      "outputs": [
        {
          "ename": "",
          "evalue": "",
          "output_type": "error",
          "traceback": [
            "\u001b[1;31mRunning cells with 'Python 3.9.16' requires the ipykernel package.\n",
            "\u001b[1;31mRun the following command to install 'ipykernel' into the Python environment. \n",
            "\u001b[1;31mCommand: '/home/tony/.pyenv/versions/3.9.16/bin/python -m pip install ipykernel -U --force-reinstall'"
          ]
        }
      ],
      "source": [
        "# set date back to column\n",
        "macro_qtr.reset_index(inplace=True)\n",
        "macro_qtr"
      ]
    },
    {
      "cell_type": "code",
      "execution_count": null,
      "metadata": {
        "colab": {
          "base_uri": "https://localhost:8080/"
        },
        "id": "__3vz9V1Fzcl",
        "outputId": "9729dbcc-7137-49ef-a08b-a08c3c3e98ff"
      },
      "outputs": [
        {
          "ename": "",
          "evalue": "",
          "output_type": "error",
          "traceback": [
            "\u001b[1;31mRunning cells with 'Python 3.9.16' requires the ipykernel package.\n",
            "\u001b[1;31mRun the following command to install 'ipykernel' into the Python environment. \n",
            "\u001b[1;31mCommand: '/home/tony/.pyenv/versions/3.9.16/bin/python -m pip install ipykernel -U --force-reinstall'"
          ]
        }
      ],
      "source": [
        "df=original_df\n",
        "df[\"datafqtr\"]"
      ]
    },
    {
      "cell_type": "code",
      "execution_count": null,
      "metadata": {
        "id": "xN2okkM9ulHV"
      },
      "outputs": [
        {
          "ename": "",
          "evalue": "",
          "output_type": "error",
          "traceback": [
            "\u001b[1;31mRunning cells with 'Python 3.9.16' requires the ipykernel package.\n",
            "\u001b[1;31mRun the following command to install 'ipykernel' into the Python environment. \n",
            "\u001b[1;31mCommand: '/home/tony/.pyenv/versions/3.9.16/bin/python -m pip install ipykernel -U --force-reinstall'"
          ]
        }
      ],
      "source": [
        "# merge macro data with original data on month and year\n",
        "df = pd.merge(df, macro_qtr, left_on='datafqtr', right_on='macro_qtr', how='left')"
      ]
    },
    {
      "cell_type": "code",
      "execution_count": null,
      "metadata": {
        "colab": {
          "base_uri": "https://localhost:8080/",
          "height": 461
        },
        "id": "4OkQP4DVulHW",
        "outputId": "8f7665d4-1a53-4635-f0c6-77dfb0065ac5"
      },
      "outputs": [
        {
          "ename": "",
          "evalue": "",
          "output_type": "error",
          "traceback": [
            "\u001b[1;31mRunning cells with 'Python 3.9.16' requires the ipykernel package.\n",
            "\u001b[1;31mRun the following command to install 'ipykernel' into the Python environment. \n",
            "\u001b[1;31mCommand: '/home/tony/.pyenv/versions/3.9.16/bin/python -m pip install ipykernel -U --force-reinstall'"
          ]
        }
      ],
      "source": [
        "df"
      ]
    },
    {
      "cell_type": "code",
      "execution_count": null,
      "metadata": {
        "colab": {
          "base_uri": "https://localhost:8080/"
        },
        "id": "oF4JA1iKulHW",
        "outputId": "bcdc4852-f5ff-473b-c363-32f6bb7c3608"
      },
      "outputs": [
        {
          "ename": "",
          "evalue": "",
          "output_type": "error",
          "traceback": [
            "\u001b[1;31mRunning cells with 'Python 3.9.16' requires the ipykernel package.\n",
            "\u001b[1;31mRun the following command to install 'ipykernel' into the Python environment. \n",
            "\u001b[1;31mCommand: '/home/tony/.pyenv/versions/3.9.16/bin/python -m pip install ipykernel -U --force-reinstall'"
          ]
        }
      ],
      "source": [
        "# count all atq values greater less than 1000\n",
        "df[df['atq'] < 1000].count()"
      ]
    },
    {
      "cell_type": "code",
      "execution_count": null,
      "metadata": {
        "id": "ymw2pSQMulHX"
      },
      "outputs": [
        {
          "ename": "",
          "evalue": "",
          "output_type": "error",
          "traceback": [
            "\u001b[1;31mRunning cells with 'Python 3.9.16' requires the ipykernel package.\n",
            "\u001b[1;31mRun the following command to install 'ipykernel' into the Python environment. \n",
            "\u001b[1;31mCommand: '/home/tony/.pyenv/versions/3.9.16/bin/python -m pip install ipykernel -U --force-reinstall'"
          ]
        }
      ],
      "source": [
        "# Drop all rows with atq< 1000\n",
        "df = df[df['atq'] < 1000]"
      ]
    },
    {
      "cell_type": "code",
      "execution_count": null,
      "metadata": {
        "colab": {
          "base_uri": "https://localhost:8080/"
        },
        "id": "pBDaRtFVulHY",
        "outputId": "84d47882-b47b-4763-f31d-d8ed8284420c"
      },
      "outputs": [
        {
          "ename": "",
          "evalue": "",
          "output_type": "error",
          "traceback": [
            "\u001b[1;31mRunning cells with 'Python 3.9.16' requires the ipykernel package.\n",
            "\u001b[1;31mRun the following command to install 'ipykernel' into the Python environment. \n",
            "\u001b[1;31mCommand: '/home/tony/.pyenv/versions/3.9.16/bin/python -m pip install ipykernel -U --force-reinstall'"
          ]
        }
      ],
      "source": [
        "\n",
        "df.shape"
      ]
    },
    {
      "cell_type": "code",
      "execution_count": null,
      "metadata": {
        "colab": {
          "base_uri": "https://localhost:8080/"
        },
        "id": "-QSDMUtSulHY",
        "outputId": "82564b77-3f78-4f38-ad63-062f6012bcba"
      },
      "outputs": [
        {
          "ename": "",
          "evalue": "",
          "output_type": "error",
          "traceback": [
            "\u001b[1;31mRunning cells with 'Python 3.9.16' requires the ipykernel package.\n",
            "\u001b[1;31mRun the following command to install 'ipykernel' into the Python environment. \n",
            "\u001b[1;31mCommand: '/home/tony/.pyenv/versions/3.9.16/bin/python -m pip install ipykernel -U --force-reinstall'"
          ]
        }
      ],
      "source": [
        "df.isna().sum().sort_values(ascending=False)"
      ]
    },
    {
      "cell_type": "code",
      "execution_count": null,
      "metadata": {
        "colab": {
          "base_uri": "https://localhost:8080/",
          "height": 422
        },
        "id": "N1Xgnb-GulHY",
        "outputId": "87be0f2d-093f-4518-e5c6-c981694d7475"
      },
      "outputs": [
        {
          "ename": "",
          "evalue": "",
          "output_type": "error",
          "traceback": [
            "\u001b[1;31mRunning cells with 'Python 3.9.16' requires the ipykernel package.\n",
            "\u001b[1;31mRun the following command to install 'ipykernel' into the Python environment. \n",
            "\u001b[1;31mCommand: '/home/tony/.pyenv/versions/3.9.16/bin/python -m pip install ipykernel -U --force-reinstall'"
          ]
        }
      ],
      "source": [
        "# replace 0 with nan and  drop all nan in revtq\n",
        "df['revtq'] = df['revtq'].replace(0, pd.NA)\n",
        "df = df.dropna(subset=['revtq'])"
      ]
    },
    {
      "cell_type": "code",
      "execution_count": null,
      "metadata": {
        "id": "Y2M5Fq27ulHZ"
      },
      "outputs": [
        {
          "ename": "",
          "evalue": "",
          "output_type": "error",
          "traceback": [
            "\u001b[1;31mRunning cells with 'Python 3.9.16' requires the ipykernel package.\n",
            "\u001b[1;31mRun the following command to install 'ipykernel' into the Python environment. \n",
            "\u001b[1;31mCommand: '/home/tony/.pyenv/versions/3.9.16/bin/python -m pip install ipykernel -U --force-reinstall'"
          ]
        }
      ],
      "source": [
        "#drop duplicates\n",
        "df = df.drop_duplicates()"
      ]
    },
    {
      "cell_type": "code",
      "execution_count": null,
      "metadata": {
        "id": "ML6uJe89ulHZ"
      },
      "outputs": [
        {
          "ename": "",
          "evalue": "",
          "output_type": "error",
          "traceback": [
            "\u001b[1;31mRunning cells with 'Python 3.9.16' requires the ipykernel package.\n",
            "\u001b[1;31mRun the following command to install 'ipykernel' into the Python environment. \n",
            "\u001b[1;31mCommand: '/home/tony/.pyenv/versions/3.9.16/bin/python -m pip install ipykernel -U --force-reinstall'"
          ]
        }
      ],
      "source": [
        "df.shape"
      ]
    },
    {
      "cell_type": "code",
      "execution_count": null,
      "metadata": {
        "id": "CFWmlECIulHa"
      },
      "outputs": [
        {
          "ename": "",
          "evalue": "",
          "output_type": "error",
          "traceback": [
            "\u001b[1;31mRunning cells with 'Python 3.9.16' requires the ipykernel package.\n",
            "\u001b[1;31mRun the following command to install 'ipykernel' into the Python environment. \n",
            "\u001b[1;31mCommand: '/home/tony/.pyenv/versions/3.9.16/bin/python -m pip install ipykernel -U --force-reinstall'"
          ]
        }
      ],
      "source": [
        "# replace 0 with nan and  drop all nan in lctq\n",
        "df['lctq'] = df['lctq'].replace(0, pd.NA)\n",
        "df = df.dropna(subset=['lctq'])"
      ]
    },
    {
      "cell_type": "code",
      "execution_count": null,
      "metadata": {
        "id": "RP035upbulHa"
      },
      "outputs": [
        {
          "ename": "",
          "evalue": "",
          "output_type": "error",
          "traceback": [
            "\u001b[1;31mRunning cells with 'Python 3.9.16' requires the ipykernel package.\n",
            "\u001b[1;31mRun the following command to install 'ipykernel' into the Python environment. \n",
            "\u001b[1;31mCommand: '/home/tony/.pyenv/versions/3.9.16/bin/python -m pip install ipykernel -U --force-reinstall'"
          ]
        }
      ],
      "source": [
        "# replace 0 with nan and  drop all nan in ppentq\n",
        "df['ppentq'] = df['ppentq'].replace(0, pd.NA)\n",
        "df = df.dropna(subset=['ppentq'])"
      ]
    },
    {
      "cell_type": "code",
      "execution_count": null,
      "metadata": {
        "id": "gmFq1A8KulHb"
      },
      "outputs": [
        {
          "ename": "",
          "evalue": "",
          "output_type": "error",
          "traceback": [
            "\u001b[1;31mRunning cells with 'Python 3.9.16' requires the ipykernel package.\n",
            "\u001b[1;31mRun the following command to install 'ipykernel' into the Python environment. \n",
            "\u001b[1;31mCommand: '/home/tony/.pyenv/versions/3.9.16/bin/python -m pip install ipykernel -U --force-reinstall'"
          ]
        }
      ],
      "source": [
        "df[\"core\"] =  df[\"cogsq\"]/df[\"revtq\"]"
      ]
    },
    {
      "cell_type": "code",
      "execution_count": null,
      "metadata": {
        "id": "PF3iTaJYulHb"
      },
      "outputs": [
        {
          "ename": "",
          "evalue": "",
          "output_type": "error",
          "traceback": [
            "\u001b[1;31mRunning cells with 'Python 3.9.16' requires the ipykernel package.\n",
            "\u001b[1;31mRun the following command to install 'ipykernel' into the Python environment. \n",
            "\u001b[1;31mCommand: '/home/tony/.pyenv/versions/3.9.16/bin/python -m pip install ipykernel -U --force-reinstall'"
          ]
        }
      ],
      "source": [
        "df[\"opre\"]= df[\"xoprq\"]/df[\"revtq\"]\n"
      ]
    },
    {
      "cell_type": "code",
      "execution_count": null,
      "metadata": {
        "id": "DQd2qpW2ulHc"
      },
      "outputs": [
        {
          "ename": "",
          "evalue": "",
          "output_type": "error",
          "traceback": [
            "\u001b[1;31mRunning cells with 'Python 3.9.16' requires the ipykernel package.\n",
            "\u001b[1;31mRun the following command to install 'ipykernel' into the Python environment. \n",
            "\u001b[1;31mCommand: '/home/tony/.pyenv/versions/3.9.16/bin/python -m pip install ipykernel -U --force-reinstall'"
          ]
        }
      ],
      "source": [
        "df[\"roa\"]=df[\"niq\"]/df[\"atq\"]"
      ]
    },
    {
      "cell_type": "code",
      "execution_count": null,
      "metadata": {
        "id": "u9rP_Z4LulHc"
      },
      "outputs": [
        {
          "ename": "",
          "evalue": "",
          "output_type": "error",
          "traceback": [
            "\u001b[1;31mRunning cells with 'Python 3.9.16' requires the ipykernel package.\n",
            "\u001b[1;31mRun the following command to install 'ipykernel' into the Python environment. \n",
            "\u001b[1;31mCommand: '/home/tony/.pyenv/versions/3.9.16/bin/python -m pip install ipykernel -U --force-reinstall'"
          ]
        }
      ],
      "source": [
        "df[\"sata\"]=df[\"revtq\"]/df[\"atq\"]"
      ]
    },
    {
      "cell_type": "code",
      "execution_count": null,
      "metadata": {
        "id": "6Q6iMLygulHd"
      },
      "outputs": [
        {
          "ename": "",
          "evalue": "",
          "output_type": "error",
          "traceback": [
            "\u001b[1;31mRunning cells with 'Python 3.9.16' requires the ipykernel package.\n",
            "\u001b[1;31mRun the following command to install 'ipykernel' into the Python environment. \n",
            "\u001b[1;31mCommand: '/home/tony/.pyenv/versions/3.9.16/bin/python -m pip install ipykernel -U --force-reinstall'"
          ]
        }
      ],
      "source": [
        "df[\"depp\"]=df[\"dpq\"]/df[\"ppentq\"]"
      ]
    },
    {
      "cell_type": "code",
      "execution_count": null,
      "metadata": {
        "id": "xrd6_nMPulHd"
      },
      "outputs": [
        {
          "ename": "",
          "evalue": "",
          "output_type": "error",
          "traceback": [
            "\u001b[1;31mRunning cells with 'Python 3.9.16' requires the ipykernel package.\n",
            "\u001b[1;31mRun the following command to install 'ipykernel' into the Python environment. \n",
            "\u001b[1;31mCommand: '/home/tony/.pyenv/versions/3.9.16/bin/python -m pip install ipykernel -U --force-reinstall'"
          ]
        }
      ],
      "source": [
        "df[\"cacl\"]=df[\"actq\"]/df[\"lctq\"]"
      ]
    },
    {
      "cell_type": "code",
      "execution_count": null,
      "metadata": {
        "id": "GQfbghJeulHd"
      },
      "outputs": [
        {
          "ename": "",
          "evalue": "",
          "output_type": "error",
          "traceback": [
            "\u001b[1;31mRunning cells with 'Python 3.9.16' requires the ipykernel package.\n",
            "\u001b[1;31mRun the following command to install 'ipykernel' into the Python environment. \n",
            "\u001b[1;31mCommand: '/home/tony/.pyenv/versions/3.9.16/bin/python -m pip install ipykernel -U --force-reinstall'"
          ]
        }
      ],
      "source": [
        "#check na values only in core, roa, sata, depp, cacl\n",
        "df[['core','roa','sata','depp','cacl']].isna().sum()"
      ]
    },
    {
      "cell_type": "code",
      "execution_count": null,
      "metadata": {
        "id": "ajTxMEJzulHe"
      },
      "outputs": [
        {
          "ename": "",
          "evalue": "",
          "output_type": "error",
          "traceback": [
            "\u001b[1;31mRunning cells with 'Python 3.9.16' requires the ipykernel package.\n",
            "\u001b[1;31mRun the following command to install 'ipykernel' into the Python environment. \n",
            "\u001b[1;31mCommand: '/home/tony/.pyenv/versions/3.9.16/bin/python -m pip install ipykernel -U --force-reinstall'"
          ]
        }
      ],
      "source": [
        "df[\"cacl\"]=df[\"cacl\"].fillna(1)"
      ]
    },
    {
      "cell_type": "code",
      "execution_count": null,
      "metadata": {
        "id": "bE8NrebfulHe"
      },
      "outputs": [
        {
          "ename": "",
          "evalue": "",
          "output_type": "error",
          "traceback": [
            "\u001b[1;31mRunning cells with 'Python 3.9.16' requires the ipykernel package.\n",
            "\u001b[1;31mRun the following command to install 'ipykernel' into the Python environment. \n",
            "\u001b[1;31mCommand: '/home/tony/.pyenv/versions/3.9.16/bin/python -m pip install ipykernel -U --force-reinstall'"
          ]
        }
      ],
      "source": [
        "df[\"depp\"]=df[\"depp\"].fillna(0.025)"
      ]
    },
    {
      "cell_type": "code",
      "execution_count": null,
      "metadata": {
        "id": "z906stxDulHf"
      },
      "outputs": [
        {
          "ename": "",
          "evalue": "",
          "output_type": "error",
          "traceback": [
            "\u001b[1;31mRunning cells with 'Python 3.9.16' requires the ipykernel package.\n",
            "\u001b[1;31mRun the following command to install 'ipykernel' into the Python environment. \n",
            "\u001b[1;31mCommand: '/home/tony/.pyenv/versions/3.9.16/bin/python -m pip install ipykernel -U --force-reinstall'"
          ]
        }
      ],
      "source": [
        "df[\"core\"]=df[\"core\"].fillna(0)\n",
        "df[\"opre\"]=df[\"opre\"].fillna(0)"
      ]
    },
    {
      "cell_type": "code",
      "execution_count": null,
      "metadata": {
        "id": "wGtOw3GqulHf"
      },
      "outputs": [
        {
          "ename": "",
          "evalue": "",
          "output_type": "error",
          "traceback": [
            "\u001b[1;31mRunning cells with 'Python 3.9.16' requires the ipykernel package.\n",
            "\u001b[1;31mRun the following command to install 'ipykernel' into the Python environment. \n",
            "\u001b[1;31mCommand: '/home/tony/.pyenv/versions/3.9.16/bin/python -m pip install ipykernel -U --force-reinstall'"
          ]
        }
      ],
      "source": [
        "df[['core','roa','sata','depp','cacl','opre']].isna().sum()"
      ]
    },
    {
      "cell_type": "code",
      "execution_count": null,
      "metadata": {
        "id": "uANuaFeiulHg"
      },
      "outputs": [
        {
          "ename": "",
          "evalue": "",
          "output_type": "error",
          "traceback": [
            "\u001b[1;31mRunning cells with 'Python 3.9.16' requires the ipykernel package.\n",
            "\u001b[1;31mRun the following command to install 'ipykernel' into the Python environment. \n",
            "\u001b[1;31mCommand: '/home/tony/.pyenv/versions/3.9.16/bin/python -m pip install ipykernel -U --force-reinstall'"
          ]
        }
      ],
      "source": [
        "df=df.dropna(how=\"any\", subset=[\"opepsq\"])"
      ]
    },
    {
      "cell_type": "code",
      "execution_count": null,
      "metadata": {
        "id": "0h3IQyDGulHg"
      },
      "outputs": [
        {
          "ename": "",
          "evalue": "",
          "output_type": "error",
          "traceback": [
            "\u001b[1;31mRunning cells with 'Python 3.9.16' requires the ipykernel package.\n",
            "\u001b[1;31mRun the following command to install 'ipykernel' into the Python environment. \n",
            "\u001b[1;31mCommand: '/home/tony/.pyenv/versions/3.9.16/bin/python -m pip install ipykernel -U --force-reinstall'"
          ]
        }
      ],
      "source": [
        "# fill sata and roa with median for na values\n",
        "df[\"sata\"]=df[\"sata\"].fillna(df[\"sata\"].median())\n",
        "df[\"roa\"]=df[\"roa\"].fillna(df[\"roa\"].median())"
      ]
    },
    {
      "cell_type": "code",
      "execution_count": null,
      "metadata": {
        "id": "9Tai37H9ulHh"
      },
      "outputs": [
        {
          "ename": "",
          "evalue": "",
          "output_type": "error",
          "traceback": [
            "\u001b[1;31mRunning cells with 'Python 3.9.16' requires the ipykernel package.\n",
            "\u001b[1;31mRun the following command to install 'ipykernel' into the Python environment. \n",
            "\u001b[1;31mCommand: '/home/tony/.pyenv/versions/3.9.16/bin/python -m pip install ipykernel -U --force-reinstall'"
          ]
        }
      ],
      "source": [
        "df.shape"
      ]
    },
    {
      "cell_type": "code",
      "execution_count": null,
      "metadata": {
        "id": "iwjNWCXWulHh"
      },
      "outputs": [
        {
          "ename": "",
          "evalue": "",
          "output_type": "error",
          "traceback": [
            "\u001b[1;31mRunning cells with 'Python 3.9.16' requires the ipykernel package.\n",
            "\u001b[1;31mRun the following command to install 'ipykernel' into the Python environment. \n",
            "\u001b[1;31mCommand: '/home/tony/.pyenv/versions/3.9.16/bin/python -m pip install ipykernel -U --force-reinstall'"
          ]
        }
      ],
      "source": [
        "df[\"ebitda\"]=df[\"oibdpq\"]/df[\"revtq\"]"
      ]
    },
    {
      "cell_type": "code",
      "execution_count": null,
      "metadata": {
        "id": "4RUfwEKqulHi"
      },
      "outputs": [
        {
          "ename": "",
          "evalue": "",
          "output_type": "error",
          "traceback": [
            "\u001b[1;31mRunning cells with 'Python 3.9.16' requires the ipykernel package.\n",
            "\u001b[1;31mRun the following command to install 'ipykernel' into the Python environment. \n",
            "\u001b[1;31mCommand: '/home/tony/.pyenv/versions/3.9.16/bin/python -m pip install ipykernel -U --force-reinstall'"
          ]
        }
      ],
      "source": [
        "#add a lag column for ebitda\n",
        "\n",
        "df[\"ebitda_lag\"]=df.groupby(\"gvkey\")[\"ebitda\"].shift(1)"
      ]
    },
    {
      "cell_type": "code",
      "execution_count": null,
      "metadata": {
        "id": "yM4S471VulHi"
      },
      "outputs": [
        {
          "ename": "",
          "evalue": "",
          "output_type": "error",
          "traceback": [
            "\u001b[1;31mRunning cells with 'Python 3.9.16' requires the ipykernel package.\n",
            "\u001b[1;31mRun the following command to install 'ipykernel' into the Python environment. \n",
            "\u001b[1;31mCommand: '/home/tony/.pyenv/versions/3.9.16/bin/python -m pip install ipykernel -U --force-reinstall'"
          ]
        }
      ],
      "source": [
        "target = df[\"ebitda_lag\"]\n",
        "feat = df[[\"depp\",\"core\",\"opre\",\"sata\",\"cacl\",\"roa\",\"opepsq\"]]"
      ]
    },
    {
      "cell_type": "code",
      "execution_count": null,
      "metadata": {
        "id": "Mt7vVAXuulHj"
      },
      "outputs": [
        {
          "ename": "",
          "evalue": "",
          "output_type": "error",
          "traceback": [
            "\u001b[1;31mRunning cells with 'Python 3.9.16' requires the ipykernel package.\n",
            "\u001b[1;31mRun the following command to install 'ipykernel' into the Python environment. \n",
            "\u001b[1;31mCommand: '/home/tony/.pyenv/versions/3.9.16/bin/python -m pip install ipykernel -U --force-reinstall'"
          ]
        }
      ],
      "source": [
        "from sklearn.model_selection import train_test_split\n",
        "import xgboost as xgb\n",
        "\n",
        "X_train, X_test, y_train, y_test = train_test_split(feat, target, test_size=0.3, random_state=42)"
      ]
    },
    {
      "cell_type": "code",
      "execution_count": null,
      "metadata": {
        "id": "mFLsG955ulHj"
      },
      "outputs": [
        {
          "ename": "",
          "evalue": "",
          "output_type": "error",
          "traceback": [
            "\u001b[1;31mRunning cells with 'Python 3.9.16' requires the ipykernel package.\n",
            "\u001b[1;31mRun the following command to install 'ipykernel' into the Python environment. \n",
            "\u001b[1;31mCommand: '/home/tony/.pyenv/versions/3.9.16/bin/python -m pip install ipykernel -U --force-reinstall'"
          ]
        }
      ],
      "source": [
        "# xgboost regressor\n",
        "xgb_model = xgb.XGBRegressor(objective=\"reg:squarederror\")\n",
        "xgb_model.fit(X_train, y_train)"
      ]
    },
    {
      "cell_type": "code",
      "execution_count": null,
      "metadata": {
        "id": "VkZIuiXoulHk"
      },
      "outputs": [
        {
          "ename": "",
          "evalue": "",
          "output_type": "error",
          "traceback": [
            "\u001b[1;31mRunning cells with 'Python 3.9.16' requires the ipykernel package.\n",
            "\u001b[1;31mRun the following command to install 'ipykernel' into the Python environment. \n",
            "\u001b[1;31mCommand: '/home/tony/.pyenv/versions/3.9.16/bin/python -m pip install ipykernel -U --force-reinstall'"
          ]
        }
      ],
      "source": [
        "y_pred = xgb_model.predict(X_test)"
      ]
    },
    {
      "cell_type": "code",
      "execution_count": null,
      "metadata": {
        "id": "UBDiCNmHulHl"
      },
      "outputs": [
        {
          "ename": "",
          "evalue": "",
          "output_type": "error",
          "traceback": [
            "\u001b[1;31mRunning cells with 'Python 3.9.16' requires the ipykernel package.\n",
            "\u001b[1;31mRun the following command to install 'ipykernel' into the Python environment. \n",
            "\u001b[1;31mCommand: '/home/tony/.pyenv/versions/3.9.16/bin/python -m pip install ipykernel -U --force-reinstall'"
          ]
        }
      ],
      "source": [
        "\n",
        "%%R\n",
        "install.packages(\"dplyr\")\n",
        "library(dplyr)\n",
        "install.packages(\"corrplot\") # run if not downloaded before\n",
        "library(corrplot)\n",
        "\n",
        "rm(list= ls())\n",
        "setwd(\"/content/\")\n",
        "df <- read.csv(\"final_df.csv\") # data after basic cleaning\n",
        "\n",
        "# change column name\n",
        "colnames(df)[colnames(df) == \"opepsq\"] <- \"eps\"\n",
        "\n",
        "################## Identify factors we use, deal with NANs #####################\n",
        "## (1) Identify factors\n",
        "# Y: outcome last period & outcome\n",
        "Y <- c(\"ebitda\",\"ebitda_lag\")\n",
        "\n",
        "# X: name of predictors we use\n",
        "corp_factors <- c(\"cogsq\", \"revtq\", \"xoprq\",\"eps\",\"niq\",\"atq\",\"dpq\",\"ppentq\", \"oibdpq\", \"actq\", \"lctq\")\n",
        "macro_factors <- c(\"vix_index\", \"gold\", \"cpi\", \"X3.y_yield\", \"gdp\", \"tax_recipts\", \"oil\", \"un_em_rate\", \"taxation\", \"m2\", \"energy\",\"b_trade\", \"pce\", \"gov_exp\", \"fed_debt\", \"n_p_gdp\")\n",
        "\n",
        "X <- append(corp_factors, macro_factors)\n",
        "\n",
        "# X+Y factors\n",
        "XY <- append(X,Y)\n",
        "\n",
        "dataset_X <- df[,X] # datasets of X\n",
        "dataset_XY <- df[,XY] # datasets of X+Y\n",
        "\n",
        "## (2) handling with NANs\n",
        "\n",
        "# see how many NANs existing for each column\n",
        "apply(dataset_XY, MARGIN = 2, FUN = function(x){sum(is.na(x))})  # \"MARGIN\" identify row/column we want to apply \"FUN\"\n",
        "\n",
        "# drop all NANs, since size of missing values are relatively small\n",
        "dataset_XY <- dataset_XY[complete.cases(dataset_XY),] # df[a,b]: for df, \"a\" identifies rows, \"b\" identifies columns\n",
        "dataset_X <- dataset_XY[,X]\n",
        "\n",
        "### (3) data description\n",
        "\n",
        "# here, draw distribution graph for each variables in dataset_X\n",
        "\n",
        "\n",
        "# correlation matrix can also be drawn if you like, which shows strength of relationship(in data sense) between variables\n",
        "par(mfrow=c(1,1), mar=c(4,4,2,0.5))\n",
        "M = cor(dataset_XY)\n",
        "corrplot(M, order = \"hclust\", addrect = 2)\n",
        "    # from graph, we can see that, (1) our target \"ebitda_lag\" is only correlated with \"ebitda\" and itself\n",
        "                                #  (2) ...\n",
        "\n",
        "#######################  feature Engneering ###################################\n",
        "##### 1. make interaction between factors\n",
        "print(X)\n",
        "# Create an empty data frame to store the interaction terms\n",
        "interact_dataset_X <- data.frame(matrix(NA, nrow = nrow(dataset_X), ncol = 0))\n",
        "\n",
        "# Loop through all pairs of variables and create interaction terms\n",
        "for (i in 1:(length(X) - 1)) {\n",
        "  for (j in (i + 1):length(X)) {\n",
        "    var1 <- X[i]\n",
        "    var2 <- X[j]\n",
        "    interaction_name <- paste(var1, var2, sep = \"_\") # e.g: \"gdp_m2\"\n",
        "\n",
        "    # Create the interaction term and store it in the data frame\n",
        "    interact_dataset_X[interaction_name] <- dataset_X[[var1]] * dataset_X[[var2]]\n",
        "  }\n",
        "}\n",
        "\n",
        "# check if any missing value\n",
        "apply(interact_dataset_X, 2, function(x){sum(is.na(x))})\n",
        "\n",
        "##### 2. make square terms of factors\n",
        "square_dataset_X <- data.frame(matrix(NA, nrow = nrow(dataset_X), ncol = 0))\n",
        "\n",
        "# Loop through all pairs of variables and create interaction terms\n",
        "for (i in 1:(length(X))) {\n",
        "  var <- X[i]\n",
        "  square_name <- paste0(var,\"^2\")\n",
        "  # Create the square term and store it in the data frame\n",
        "  square_dataset_X[square_name] <- dataset_X[[var]]^2\n",
        "}\n",
        "\n",
        "apply(square_dataset_X, 2, function(x){sum(is.na(x))}) # no missing\n",
        "\n",
        "##### 3. make financial ratios out of factors\n",
        "ratio_dataset_X <- data.frame(matrix(NA, nrow = nrow(dataset_X), ncol = 0))\n",
        "\n",
        "ratio_dataset_X$cogs.sale <- dataset_X$cogsq / dataset_X$revtq\n",
        "ratio_dataset_X$opex.sale <- dataset_X$xoprq / dataset_X$revtq # Operating Expense to Sales Ratio = OPEX / Sales\n",
        "ratio_dataset_X$roa <- dataset_X$niq / dataset_X$atq # return to assets = Net Income / Assets\n",
        "ratio_dataset_X$sale.asset <- dataset_X$revtq / dataset_X$atq # Assets Turnover Ratio = Sales / Assets\n",
        "ratio_dataset_X$ca.cl <- dataset_X$actq / dataset_X$lctq # Current Assets to Current Liability Ratio\n",
        "ratio_dataset_X$depre.ppe <- dataset_X$dpq / dataset_X$ppentq # Depreciation and Amortisation to PPE ratio\n",
        "\n",
        "apply(ratio_dataset_X, 2, function(x){sum(is.na(x))}) # no missing\n",
        "\n",
        "####  Combine datasets\n",
        "final_df <- data.frame(dataset_XY, ratio_dataset_X, square_dataset_X, interact_dataset_X)\n",
        "\n",
        "\n",
        "####################### spliting & Benchmark ###################################\n",
        "### (1) standardization for following model prediction\n",
        "standar_X <- scale(model.matrix(ebitda_lag ~ . - 1, data = final_df))\n",
        "standar_X <- subset(standar_X, select = -ebitda) # only standardize predictors\n",
        "\n",
        "standar_XY <- cbind(standar_X, final_df[,Y])\n",
        "\n",
        "### (2) Split training & test set\n",
        "set.seed(114514)\n",
        "train <- sample(1:nrow(standar_XY), nrow(standar_XY)*4/5) # train: test = 4: 1\n",
        "test <- (-train)\n",
        "trainset <- standar_XY[train, ]\n",
        "testset <- standar_XY[test, ]\n",
        "\n",
        "\n",
        "x.test <- as.matrix(testset[,!names(standar_XY) %in% Y])\n",
        "y.test <- as.matrix(testset[, Y[2]])\n",
        "x.train <- as.matrix(trainset[,!names(standar_XY) %in% Y])\n",
        "y.train <- as.matrix(trainset[, Y[2]])\n",
        "\n",
        "benchmark_y <- testset[,Y[1]]\n",
        "\n",
        "## (3) here, calculate MSE of benchmark_y here.  tips: MSE = E[(benchmark_y - y)^2].\n",
        "mse_benchmark = mean((benchmark_y-y.test)^2)"
      ]
    },
    {
      "cell_type": "code",
      "execution_count": null,
      "metadata": {
        "id": "YjEjQ2bZulHl"
      },
      "outputs": [
        {
          "ename": "",
          "evalue": "",
          "output_type": "error",
          "traceback": [
            "\u001b[1;31mRunning cells with 'Python 3.9.16' requires the ipykernel package.\n",
            "\u001b[1;31mRun the following command to install 'ipykernel' into the Python environment. \n",
            "\u001b[1;31mCommand: '/home/tony/.pyenv/versions/3.9.16/bin/python -m pip install ipykernel -U --force-reinstall'"
          ]
        }
      ],
      "source": []
    },
    {
      "cell_type": "code",
      "execution_count": null,
      "metadata": {
        "id": "A3uVRy-bulHl"
      },
      "outputs": [
        {
          "ename": "",
          "evalue": "",
          "output_type": "error",
          "traceback": [
            "\u001b[1;31mRunning cells with 'Python 3.9.16' requires the ipykernel package.\n",
            "\u001b[1;31mRun the following command to install 'ipykernel' into the Python environment. \n",
            "\u001b[1;31mCommand: '/home/tony/.pyenv/versions/3.9.16/bin/python -m pip install ipykernel -U --force-reinstall'"
          ]
        }
      ],
      "source": []
    },
    {
      "cell_type": "code",
      "execution_count": null,
      "metadata": {
        "id": "tZu570sIulHm"
      },
      "outputs": [
        {
          "ename": "",
          "evalue": "",
          "output_type": "error",
          "traceback": [
            "\u001b[1;31mRunning cells with 'Python 3.9.16' requires the ipykernel package.\n",
            "\u001b[1;31mRun the following command to install 'ipykernel' into the Python environment. \n",
            "\u001b[1;31mCommand: '/home/tony/.pyenv/versions/3.9.16/bin/python -m pip install ipykernel -U --force-reinstall'"
          ]
        }
      ],
      "source": []
    },
    {
      "cell_type": "code",
      "execution_count": null,
      "metadata": {
        "id": "F1V9upjxulHm"
      },
      "outputs": [
        {
          "ename": "",
          "evalue": "",
          "output_type": "error",
          "traceback": [
            "\u001b[1;31mRunning cells with 'Python 3.9.16' requires the ipykernel package.\n",
            "\u001b[1;31mRun the following command to install 'ipykernel' into the Python environment. \n",
            "\u001b[1;31mCommand: '/home/tony/.pyenv/versions/3.9.16/bin/python -m pip install ipykernel -U --force-reinstall'"
          ]
        }
      ],
      "source": []
    },
    {
      "cell_type": "code",
      "execution_count": null,
      "metadata": {
        "id": "cSrFQILLulHm"
      },
      "outputs": [
        {
          "ename": "",
          "evalue": "",
          "output_type": "error",
          "traceback": [
            "\u001b[1;31mRunning cells with 'Python 3.9.16' requires the ipykernel package.\n",
            "\u001b[1;31mRun the following command to install 'ipykernel' into the Python environment. \n",
            "\u001b[1;31mCommand: '/home/tony/.pyenv/versions/3.9.16/bin/python -m pip install ipykernel -U --force-reinstall'"
          ]
        }
      ],
      "source": []
    },
    {
      "cell_type": "code",
      "execution_count": null,
      "metadata": {
        "id": "KzC_B9WLulHm"
      },
      "outputs": [
        {
          "ename": "",
          "evalue": "",
          "output_type": "error",
          "traceback": [
            "\u001b[1;31mRunning cells with 'Python 3.9.16' requires the ipykernel package.\n",
            "\u001b[1;31mRun the following command to install 'ipykernel' into the Python environment. \n",
            "\u001b[1;31mCommand: '/home/tony/.pyenv/versions/3.9.16/bin/python -m pip install ipykernel -U --force-reinstall'"
          ]
        }
      ],
      "source": []
    }
  ],
  "metadata": {
    "colab": {
      "provenance": []
    },
    "kernelspec": {
      "display_name": "Python 3",
      "name": "python3"
    },
    "language_info": {
      "codemirror_mode": {
        "name": "ipython",
        "version": 3
      },
      "file_extension": ".py",
      "mimetype": "text/x-python",
      "name": "python",
      "nbconvert_exporter": "python",
      "pygments_lexer": "ipython3",
      "version": "3.9.16"
    }
  },
  "nbformat": 4,
  "nbformat_minor": 0
}
